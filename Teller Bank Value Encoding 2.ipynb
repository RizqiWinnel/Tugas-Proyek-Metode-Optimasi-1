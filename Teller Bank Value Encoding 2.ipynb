{
 "cells": [
  {
   "cell_type": "markdown",
   "id": "1a936fcc",
   "metadata": {},
   "source": [
    "# Optimasi Sistem Penjadwalan Antrian Teller Bank Berbasis Algoritma Genetika\n",
    "\n",
    "### Oleh Kelompok 13\n",
    "- Lani Nur Patria\n",
    "- Muhammad Rizqi Winnel Adnin\n",
    "- Rizka Nurhidayati\n",
    "- Salsya Fadillah R\n"
   ]
  },
  {
   "cell_type": "markdown",
   "id": "fccf423c",
   "metadata": {},
   "source": [
    "##  Deskripsi Algoritma Genetika\n",
    "\n",
    "Algoritma genetika (GA) merupakan algoritma yang berbasis populasi yang memungkinkan digunakan pada masalah optimasi dengan ruang pencarian (search space) yang sangat luas dan kompleks. Properti ini juga memungkinkan GA untuk melompat keluar dari daerah optimum lokal.\n",
    "\n",
    "GA terdiri dari tahapan utama:\n",
    "1. Representasi solusi/kromosom (encoding)\n",
    "2. Pembangkitan populasi\n",
    "3. Perhitungan nilai fitness\n",
    "4. Seleksi\n",
    "5. Crossover\n",
    "6. Mutasi\n"
   ]
  },
  {
   "cell_type": "markdown",
   "id": "2be3f039",
   "metadata": {},
   "source": [
    "Import library yang diperlukan\n",
    "\n",
    "- random: untuk mengenerate bilangan secara random\n",
    "- matplotlib.pyplot: untuk membuat visualisasi tabel\n",
    "- numpy: digunakan untuk menyusun jam pada visualisasi"
   ]
  },
  {
   "cell_type": "code",
   "execution_count": 73,
   "id": "146086f8",
   "metadata": {},
   "outputs": [],
   "source": [
    "import random\n",
    "import matplotlib.pyplot as plt\n",
    "import numpy as np"
   ]
  },
  {
   "cell_type": "markdown",
   "id": "c1a7304a",
   "metadata": {},
   "source": [
    "##  Parameter & Data Masukan\n",
    "\n",
    "Berikut merupakan keterangan dari parameter yang tersedia\n",
    "\n",
    "- JML_JAM: Jumlah jam kerja operasional bank\n",
    "- MAKS_TELLER: Jumlah maksimum teller yang bekerja pada bank\n",
    "- MIN_TELLER: Jumlah minimum teller yang bekerja pada bank\n",
    "- UK_POP: Ukuran Populasi\n",
    "- BYK_GENERASI: Banyak generasi (iterasi) pada proses perhitungan Genetic Algorithm \n",
    "- nasabah_per_jam: Jumlah (rata-rata) nasabah yang datang per jam\n",
    "- LAYANAN_PER_TELLER: Jumlah Kapasitas Nasabah yang dapat dilayani oleh satu teller per jam\n",
    "\n",
    "Dalam hal ini, untuk penelitian ini digunakan paramater sebagai berikut\n",
    "\n",
    "- Jam operasional: 08:00–16:00 (8 jam)\n",
    "- Jumlah teller minimum dan maksimum per jam: 1–5\n",
    "- Setiap teller dapat melayani hingga 5 nasabah per jam\n",
    "- Data nasabah per jam disimulasikan sebagai list `[10, 15, 20, 25, 18, 14, 10, 8]`"
   ]
  },
  {
   "cell_type": "code",
   "execution_count": 74,
   "id": "cc6e78dc",
   "metadata": {},
   "outputs": [],
   "source": [
    "JML_JAM = 8\n",
    "MAKS_TELLER = 5\n",
    "MIN_TELLER = 1\n",
    "UK_POP = 10\n",
    "BYK_GENERASI = 60\n",
    "nasabah_per_jam = [10, 15, 20, 25, 18, 14, 10, 8]\n",
    "LAYANAN_PER_TELLER = 5"
   ]
  },
  {
   "cell_type": "markdown",
   "id": "a73e6ffb",
   "metadata": {},
   "source": [
    "## Pengodean/Pembentukan Kromosom (Encoding)\n",
    "\n",
    "Setiap kromosom direpresentasikan sebagai list sepanjang 8 (jumlah jam), dengan tiap elemen menyatakan jumlah teller yang bekerja di jam tersebut:\n",
    "\n",
    "Contoh:\n",
    "`[3, 4, 5, 5, 4, 3, 2, 2]`\n",
    "\n",
    "Arti:\n",
    "- Jam 08:00–09:00 -> 3 teller aktif\n",
    "- Jam 09:00–10:00 -> 4 teller aktif\n",
    "- ... dan seterusnya"
   ]
  },
  {
   "cell_type": "code",
   "execution_count": 75,
   "id": "86141f6d",
   "metadata": {},
   "outputs": [
    {
     "name": "stdout",
     "output_type": "stream",
     "text": [
      "Contoh satu kromosom: [1, 2, 1, 4, 3, 4, 1, 5]\n"
     ]
    }
   ],
   "source": [
    "# -- Fungsi Generate Kromosom --\n",
    "def generate_kromosom():\n",
    "    return [random.randint(MIN_TELLER, MAKS_TELLER) for _ in range(JML_JAM)]\n",
    "\n",
    "# Contoh\n",
    "krom_contoh = generate_kromosom()\n",
    "print(f\"Contoh satu kromosom: {krom_contoh}\")"
   ]
  },
  {
   "cell_type": "markdown",
   "id": "8e90f19c",
   "metadata": {},
   "source": [
    "##  Pembangkitan Populasi Awal\n",
    "\n",
    "Populasi awal dihasilkan secara acak. Setiap kromosom adalah kandidat solusi yang akan dievolusikan oleh algoritma."
   ]
  },
  {
   "cell_type": "code",
   "execution_count": 85,
   "id": "7416804d",
   "metadata": {},
   "outputs": [
    {
     "name": "stdout",
     "output_type": "stream",
     "text": [
      "Populasi Awal:\n",
      "Kromosom 1: [4, 2, 4, 3, 1, 2, 3, 1]\n",
      "Kromosom 2: [2, 1, 1, 4, 3, 5, 2, 4]\n",
      "Kromosom 3: [3, 3, 2, 1, 4, 3, 2, 2]\n",
      "Kromosom 4: [5, 1, 3, 4, 1, 1, 4, 3]\n",
      "Kromosom 5: [5, 5, 5, 2, 5, 2, 1, 4]\n",
      "Kromosom 6: [4, 3, 2, 5, 1, 1, 1, 4]\n",
      "Kromosom 7: [4, 1, 5, 3, 2, 5, 4, 5]\n",
      "Kromosom 8: [2, 5, 3, 5, 1, 1, 5, 5]\n",
      "Kromosom 9: [4, 1, 3, 3, 4, 4, 1, 3]\n",
      "Kromosom 10: [3, 4, 2, 2, 4, 1, 2, 4]\n"
     ]
    }
   ],
   "source": [
    "# -- Fungsi Inisialisasi Populasi --\n",
    "def inisialisasi_populasi():\n",
    "    return [generate_kromosom() for _ in range(UK_POP)]\n",
    "\n",
    "# Contoh keluaran hasil\n",
    "def show_inisialisasi_populasi(population):\n",
    "    print(\"Populasi Awal:\")\n",
    "    for i, krom in enumerate(population):\n",
    "        print(f\"Kromosom {i+1}: {krom}\")\n",
    "\n",
    "population = inisialisasi_populasi()\n",
    "show_inisialisasi_populasi(population)"
   ]
  },
  {
   "cell_type": "markdown",
   "id": "f200d3a9",
   "metadata": {},
   "source": [
    "## Perhitungan Nilai Fitness\n",
    "\n",
    "Nilai fitness dari setiap kromosom dihitung berdasarkan total constraint pelayanan (waktu tunggu dan mengganggur).\n",
    "\n",
    "- Waktu tunggu: nasabah - kapasitas\n",
    "- Menganggur: kapasitas - nasabah (dihitung dengan bobot ringan α = 0.2)\n",
    "\n",
    "### Rumus:\n",
    "\n",
    "Waktu Tunggu:\n",
    "$$\n",
    "\\sum_{j=1}^{n} \\left[ \\max(0, D_j - K_j) \\right]\n",
    "$$\n",
    "\n",
    "Menganggur:\n",
    "$$\n",
    "\\sum_{j=1}^{n} \\left[ \\alpha \\cdot \\max(0, K_j - D_j) \\right]\n",
    "$$\n",
    "\n",
    "Total Penalti:\n",
    "$$\n",
    "\\text{Penalti} = \\text{Waktu Tunggu} + \\text{Menganggur} \n",
    "$$\n",
    "\n",
    "Fitness:\n",
    "$$\n",
    "\\text{Fitness} = \\frac{1}{1 + \\text{Penalti}}\n",
    "$$\n",
    "\n",
    "Dengan notasi:\n",
    "- $$ n: \\text{jumlah jam operasional}$$\n",
    "- $$ t_j: \\text{jumlah teller yang bekerja pada jam ke-j} $$\n",
    "- $$ D_j: \\text{jumlah nasabah yang datang pada jam ke-j} $$\n",
    "- $$ r: \\text{jumlah nasabah yang bisa dilayani 1 teller per jam} $$\n",
    "- $$ K_j = r \\cdot t_j: \\text{total kapasitas pelayanan di jam ke-j} $$\n"
   ]
  },
  {
   "cell_type": "code",
   "execution_count": 77,
   "id": "7785beea",
   "metadata": {},
   "outputs": [
    {
     "name": "stdout",
     "output_type": "stream",
     "text": [
      "Populasi Awal dan Nilai Fitness:\n",
      "Kromosom 1: [3, 5, 1, 4, 3, 5, 4, 1]  Fitness = 0.0292\n",
      "Kromosom 2: [5, 1, 3, 5, 5, 3, 2, 2]  Fitness = 0.0476\n",
      "Kromosom 3: [5, 2, 1, 1, 5, 4, 4, 2]  Fitness = 0.0204\n",
      "Kromosom 4: [3, 4, 1, 3, 1, 1, 1, 4]  Fitness = 0.0174\n",
      "Kromosom 5: [4, 5, 1, 5, 5, 4, 4, 3]  Fitness = 0.0385\n",
      "Kromosom 6: [1, 4, 2, 1, 2, 1, 3, 3]  Fitness = 0.0177\n",
      "Kromosom 7: [3, 2, 3, 1, 5, 3, 1, 2]  Fitness = 0.0256\n",
      "Kromosom 8: [4, 5, 3, 3, 1, 2, 2, 4]  Fitness = 0.0254\n",
      "Kromosom 9: [1, 2, 2, 2, 2, 1, 3, 1]  Fitness = 0.0175\n",
      "Kromosom 10: [3, 4, 2, 1, 4, 2, 4, 5]  Fitness = 0.0234\n"
     ]
    }
   ],
   "source": [
    "# -- Fungsi Count Penalti --\n",
    "def hitung_penalti(krom, nasabah_per_jam):\n",
    "    penalti = 0\n",
    "    for j in range(JML_JAM):\n",
    "        kapasitas = krom[j] * LAYANAN_PER_TELLER\n",
    "        nasabah = nasabah_per_jam[j]\n",
    "        if kapasitas < nasabah:\n",
    "            penalti += (nasabah - kapasitas)  \n",
    "        elif kapasitas > nasabah:\n",
    "            penalti += 0.2 * (kapasitas - nasabah) \n",
    "    return penalti\n",
    "\n",
    "# -- Fungsi Fitness --\n",
    "def fitness(krom, nasabah_per_jam):\n",
    "    constraint = hitung_penalti(krom, nasabah_per_jam)\n",
    "    return 1 / (1 + constraint)\n",
    "\n",
    "def show_pembangkitan_populasi_dengan_fitness(population, nasabah_per_jam):\n",
    "    print(\"Populasi Awal dan Nilai Fitness:\")\n",
    "    for i, chrom in enumerate(population):\n",
    "        fit = fitness(chrom, nasabah_per_jam)\n",
    "        print(f\"Kromosom {i+1}: {chrom}  Fitness = {fit:.4f}\")\n",
    "\n",
    "fitnesses = [fitness(chrom, nasabah_per_jam) for chrom in population]\n",
    "show_pembangkitan_populasi_dengan_fitness(population, nasabah_per_jam)"
   ]
  },
  {
   "cell_type": "markdown",
   "id": "7e1e5eee",
   "metadata": {},
   "source": [
    "## Seleksi: Tournament Selection\n",
    "\n",
    "Beberapa individu (misal 3) dipilih secara acak dan dibandingkan nilai fitness-nya. Individu terbaik dipilih untuk jadi parent.\n"
   ]
  },
  {
   "cell_type": "code",
   "execution_count": 78,
   "id": "f57a0f7c",
   "metadata": {},
   "outputs": [
    {
     "name": "stdout",
     "output_type": "stream",
     "text": [
      "Contoh Seleksi Tournament:\n",
      "  Peserta 1: [5, 2, 1, 1, 5, 4, 4, 2], Fitness: 0.0204\n",
      "  Peserta 2: [1, 4, 2, 1, 2, 1, 3, 3], Fitness: 0.0177\n",
      "  Peserta 3: [3, 2, 3, 1, 5, 3, 1, 2], Fitness: 0.0256\n",
      "   Terpilih: [3, 2, 3, 1, 5, 3, 1, 2]\n"
     ]
    }
   ],
   "source": [
    "# -- Fungsi Seleksi Tournament --\n",
    "def tournament_selection(population, fitnesses, ukuran_tournament=3):\n",
    "    terpilih = random.sample(list(zip(population, fitnesses)), ukuran_tournament)\n",
    "    terpilih.sort(key=lambda x: x[1], reverse=True)  \n",
    "    return terpilih[0][0].copy()  \n",
    "\n",
    "# -- Fungsi Contoh Seleksi Tournament --\n",
    "def show_tournament_selection(population, fitnesses, ukuran_tournament=3):\n",
    "    print(\"Contoh Seleksi Tournament:\")\n",
    "    terpilih = random.sample(list(zip(population, fitnesses)), ukuran_tournament)\n",
    "    for i, (chrom, fit) in enumerate(terpilih):\n",
    "        print(f\"  Peserta {i+1}: {chrom}, Fitness: {fit:.4f}\")\n",
    "    terpilih.sort(key=lambda x: x[1], reverse=True)\n",
    "    print(\"   Terpilih:\", terpilih[0][0])\n",
    "\n",
    "show_tournament_selection(population, fitnesses)\n"
   ]
  },
  {
   "cell_type": "markdown",
   "id": "ca35937d",
   "metadata": {},
   "source": [
    "## Crossover\n",
    "\n",
    "Dua parent disilangkan dengan metode *uniform crossover*, di mana setiap gen (jam) punya peluang 50% untuk ditukar antar parent.\n",
    "\n",
    "Tujuannya adalah menghasilkan keturunan (child) yang menggabungkan karakteristik baik dari kedua parent.\n"
   ]
  },
  {
   "cell_type": "code",
   "execution_count": null,
   "id": "2ca686c8",
   "metadata": {},
   "outputs": [
    {
     "name": "stdout",
     "output_type": "stream",
     "text": [
      "Contoh Crossover:\n",
      "  Parent 1 : [3, 5, 1, 4, 3, 5, 4, 1]\n",
      "  Parent 2 : [4, 5, 1, 5, 5, 4, 4, 3]\n",
      "    Child 1: [4, 5, 1, 5, 5, 4, 4, 3]\n",
      "    Child 2: [3, 5, 1, 4, 3, 5, 4, 1]\n"
     ]
    }
   ],
   "source": [
    "# -- Fungsi Crossover --\n",
    "def crossover(parent1, parent2):\n",
    "    child1 = []\n",
    "    child2 = []\n",
    "    for g1, g2 in zip(parent1, parent2):\n",
    "        if random.random() < 0.5:\n",
    "            child1.append(g1)\n",
    "            child2.append(g2)\n",
    "        else:\n",
    "            child1.append(g2)\n",
    "            child2.append(g1)\n",
    "    return child1, child2\n",
    "\n",
    "# -- Fungsi Contoh Crossover --\n",
    "def show_crossover(parent1, parent2, child1, child2):\n",
    "    print(\"Contoh Crossover:\")\n",
    "    print(\"  Parent 1 :\", parent1)\n",
    "    print(\"  Parent 2 :\", parent2)\n",
    "    print(\"   Child 1 :\", child1)\n",
    "    print(\"   Child 2 :\", child2)\n",
    "\n",
    "p1 = tournament_selection(population, fitnesses)\n",
    "p2 = tournament_selection(population, fitnesses)\n",
    "while p1 == p2:\n",
    "    p2 = tournament_selection(population, fitnesses)\n",
    "c1, c2 = crossover(p1, p2)\n",
    "show_crossover(p1, p2, c1, c2)\n",
    "\n"
   ]
  },
  {
   "cell_type": "markdown",
   "id": "80a3ddae",
   "metadata": {},
   "source": [
    "## Mutasi\n",
    "\n",
    "Mutasi dilakukan dengan metode *random resetting mutation*, Setiap gen dari kromosom memiliki peluang untuk berubah nilainya secara acak.\n",
    "\n",
    "Tujuannya adalah mempertahankan keragaman populasi dan mencegah solusi macet pada lokal optimum.\n"
   ]
  },
  {
   "cell_type": "code",
   "execution_count": 80,
   "id": "2a04f624",
   "metadata": {},
   "outputs": [
    {
     "name": "stdout",
     "output_type": "stream",
     "text": [
      "\n",
      " Mutasi:\n",
      "  Sebelum: [4, 5, 1, 5, 5, 4, 4, 3]\n",
      "  Sesudah: [4, 5, 1, 5, 5, 4, 4, 3]\n"
     ]
    }
   ],
   "source": [
    "# -- Fungsi Mutasi --\n",
    "def mutasi(krom, mutation_rate=0.1):\n",
    "    krom = krom.copy()\n",
    "    for i in range(JML_JAM):\n",
    "        if random.random() < mutation_rate:\n",
    "            krom[i] = random.randint(MIN_TELLER, MAKS_TELLER)\n",
    "    return krom\n",
    "\n",
    "# -- Contoh Mutasi --\n",
    "def show_mutasi(original, mutant):\n",
    "    print(\"\\n Mutasi:\")\n",
    "    print(\"  Sebelum:\", original)\n",
    "    print(\"  Sesudah:\", mutant)\n",
    "\n",
    "mutant = mutasi(c1)\n",
    "show_mutasi(c1, mutant)\n"
   ]
  },
  {
   "cell_type": "markdown",
   "id": "50a609c4",
   "metadata": {},
   "source": [
    "##  Evolusi Generasi\n",
    "\n",
    "Setiap generasi:\n",
    "1. Populasi dinilai berdasarkan fitness\n",
    "2. Elitisme diterapkan (individu terbaik dipertahankan)\n",
    "3. Parent dipilih dan dikawinkan sehingga Child dihasilkan\n",
    "4. Child mengalami mutasi dan membentuk generasi baru"
   ]
  },
  {
   "cell_type": "code",
   "execution_count": 81,
   "id": "e444f40c",
   "metadata": {},
   "outputs": [],
   "source": [
    "# -- Fungsi evolusi generasi\n",
    "def evolusi_generasi(population, nasabah_per_jam):\n",
    "    fitnesses = [fitness(chrom, nasabah_per_jam) for chrom in population]\n",
    "    new_pop = []\n",
    "\n",
    "    # Elitism\n",
    "    best_idx = fitnesses.index(max(fitnesses))\n",
    "    new_pop.append(population[best_idx].copy())\n",
    "\n",
    "    while len(new_pop) < UK_POP:\n",
    "        p1 = tournament_selection(population, fitnesses)\n",
    "        p2 = tournament_selection(population, fitnesses)\n",
    "        while p1 == p2:\n",
    "            p2 = tournament_selection(population, fitnesses)\n",
    "        c1, c2 = crossover(p1, p2)\n",
    "        new_pop.append(mutasi(c1))\n",
    "        if len(new_pop) < UK_POP:\n",
    "            new_pop.append(mutasi(c2))\n",
    "            \n",
    "    return new_pop"
   ]
  },
  {
   "cell_type": "markdown",
   "id": "3fdb23c7",
   "metadata": {},
   "source": [
    "## Fungsi Visualisasi\n",
    "\n",
    "Visualisasi Nasabah per Jam vs Kapasitas Layanan"
   ]
  },
  {
   "cell_type": "code",
   "execution_count": 82,
   "id": "cdbeb2c2",
   "metadata": {},
   "outputs": [],
   "source": [
    "def visualisasi(krom, nasabah_per_jam, layanan_per_teller=5):\n",
    "    kapasitas = [teller * layanan_per_teller for teller in krom]\n",
    "\n",
    "    plt.figure(figsize=(10, 5))\n",
    "    bar_width = 0.35\n",
    "\n",
    "    index = np.arange(JML_JAM)\n",
    "    plt.bar(index, nasabah_per_jam, bar_width, label='Nasabah per Jam', color='skyblue')\n",
    "    plt.bar(index + bar_width, kapasitas, bar_width, label='Kapasitas Layanan', color='orange')\n",
    "\n",
    "    plt.xlabel('Jam Ke-')\n",
    "    plt.ylabel('Jumlah')\n",
    "    plt.title('Perbandingan Nasabah vs Kapasitas Layanan')\n",
    "    plt.xticks(index + bar_width / 2, [f'{8+i}:00' for i in range(JML_JAM)])\n",
    "    plt.legend()\n",
    "    plt.grid(axis='y', linestyle='--', linewidth=0.5)\n",
    "    plt.tight_layout()\n",
    "    plt.show()"
   ]
  },
  {
   "cell_type": "markdown",
   "id": "6c582f2c",
   "metadata": {},
   "source": [
    "## Fungsi Run Algoritma Genetika\n",
    "\n",
    "Fungsi utama yaitu run_ga() yang digunakan dalam melakukan proses Algoritma Genetika"
   ]
  },
  {
   "cell_type": "code",
   "execution_count": 83,
   "id": "4a9b9fe7",
   "metadata": {},
   "outputs": [],
   "source": [
    "def run_ga(generasi=BYK_GENERASI):\n",
    "    populasi = inisialisasi_populasi()\n",
    "\n",
    "    for gen in range(generasi):\n",
    "        fitnesses = [fitness(krom, nasabah_per_jam) for krom in populasi]\n",
    "        best_fit = max(fitnesses)\n",
    "        print(f\"Generasi {gen+1}: Fitness terbaik = {best_fit:.4f}\")\n",
    "        populasi = evolusi_generasi(populasi, nasabah_per_jam)\n",
    "\n",
    "    best_idx = max(range(len(populasi)), key=lambda i: fitness(populasi[i], nasabah_per_jam))\n",
    "    best = populasi[best_idx]\n",
    "    print(\"\\nSolusi terbaik ditemukan:\")\n",
    "    print(\"Jumlah teller per jam:\", best)\n",
    "    print(\"Fitness:\", fitness(best, nasabah_per_jam))\n",
    "    visualisasi(best, nasabah_per_jam)\n"
   ]
  },
  {
   "cell_type": "markdown",
   "id": "748dfa43",
   "metadata": {},
   "source": [
    "## Program Utama\n",
    "\n",
    "Panggil fungsi run_ga() dalam program utama"
   ]
  },
  {
   "cell_type": "code",
   "execution_count": 84,
   "id": "2ce1682c",
   "metadata": {},
   "outputs": [
    {
     "name": "stdout",
     "output_type": "stream",
     "text": [
      "Generasi 1: Fitness terbaik = 0.0588\n",
      "Generasi 2: Fitness terbaik = 0.0588\n",
      "Generasi 3: Fitness terbaik = 0.0833\n",
      "Generasi 4: Fitness terbaik = 0.0833\n",
      "Generasi 5: Fitness terbaik = 0.1667\n",
      "Generasi 6: Fitness terbaik = 0.1667\n",
      "Generasi 7: Fitness terbaik = 0.2000\n",
      "Generasi 8: Fitness terbaik = 0.2500\n",
      "Generasi 9: Fitness terbaik = 0.2500\n",
      "Generasi 10: Fitness terbaik = 0.2500\n",
      "Generasi 11: Fitness terbaik = 0.2500\n",
      "Generasi 12: Fitness terbaik = 0.2500\n",
      "Generasi 13: Fitness terbaik = 0.2500\n",
      "Generasi 14: Fitness terbaik = 0.2500\n",
      "Generasi 15: Fitness terbaik = 0.2500\n",
      "Generasi 16: Fitness terbaik = 0.2500\n",
      "Generasi 17: Fitness terbaik = 0.2500\n",
      "Generasi 18: Fitness terbaik = 0.2500\n",
      "Generasi 19: Fitness terbaik = 0.2500\n",
      "Generasi 20: Fitness terbaik = 0.2500\n",
      "Generasi 21: Fitness terbaik = 0.2500\n",
      "Generasi 22: Fitness terbaik = 0.2500\n",
      "Generasi 23: Fitness terbaik = 0.2500\n",
      "Generasi 24: Fitness terbaik = 0.2500\n",
      "Generasi 25: Fitness terbaik = 0.3333\n",
      "Generasi 26: Fitness terbaik = 0.3333\n",
      "Generasi 27: Fitness terbaik = 0.3333\n",
      "Generasi 28: Fitness terbaik = 0.3333\n",
      "Generasi 29: Fitness terbaik = 0.3333\n",
      "Generasi 30: Fitness terbaik = 0.3333\n",
      "Generasi 31: Fitness terbaik = 0.3333\n",
      "Generasi 32: Fitness terbaik = 0.3333\n",
      "Generasi 33: Fitness terbaik = 0.3333\n",
      "Generasi 34: Fitness terbaik = 0.3333\n",
      "Generasi 35: Fitness terbaik = 0.3333\n",
      "Generasi 36: Fitness terbaik = 0.3333\n",
      "Generasi 37: Fitness terbaik = 0.3333\n",
      "Generasi 38: Fitness terbaik = 0.3333\n",
      "Generasi 39: Fitness terbaik = 0.3333\n",
      "Generasi 40: Fitness terbaik = 0.3333\n",
      "Generasi 41: Fitness terbaik = 0.3333\n",
      "Generasi 42: Fitness terbaik = 0.3333\n",
      "Generasi 43: Fitness terbaik = 0.3333\n",
      "Generasi 44: Fitness terbaik = 0.3333\n",
      "Generasi 45: Fitness terbaik = 0.3333\n",
      "Generasi 46: Fitness terbaik = 0.3333\n",
      "Generasi 47: Fitness terbaik = 0.3333\n",
      "Generasi 48: Fitness terbaik = 0.3333\n",
      "Generasi 49: Fitness terbaik = 0.5000\n",
      "Generasi 50: Fitness terbaik = 0.5000\n",
      "Generasi 51: Fitness terbaik = 0.5000\n",
      "Generasi 52: Fitness terbaik = 0.5000\n",
      "Generasi 53: Fitness terbaik = 0.5000\n",
      "Generasi 54: Fitness terbaik = 0.5000\n",
      "Generasi 55: Fitness terbaik = 0.5000\n",
      "Generasi 56: Fitness terbaik = 0.5000\n",
      "Generasi 57: Fitness terbaik = 0.5000\n",
      "Generasi 58: Fitness terbaik = 0.5000\n",
      "Generasi 59: Fitness terbaik = 0.5000\n",
      "Generasi 60: Fitness terbaik = 0.5000\n",
      "\n",
      "Solusi terbaik ditemukan:\n",
      "Jumlah teller per jam: [2, 3, 4, 5, 4, 3, 2, 2]\n",
      "Fitness: 0.5\n"
     ]
    },
    {
     "data": {
      "image/png": "[encoded data removed]",
      "text/plain": [
       "<Figure size 1000x500 with 1 Axes>"
      ]
     },
     "metadata": {},
     "output_type": "display_data"
    }
   ],
   "source": [
    "run_ga()"
   ]
  }
 ],
 "metadata": {
  "kernelspec": {
   "display_name": "Python 3",
   "language": "python",
   "name": "python3"
  },
  "language_info": {
   "codemirror_mode": {
    "name": "ipython",
    "version": 3
   },
   "file_extension": ".py",
   "mimetype": "text/x-python",
   "name": "python",
   "nbconvert_exporter": "python",
   "pygments_lexer": "ipython3",
   "version": "3.12.5"
  }
 },
 "nbformat": 4,
 "nbformat_minor": 5
}
